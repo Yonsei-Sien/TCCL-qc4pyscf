{
 "cells": [
  {
   "cell_type": "code",
   "execution_count": 7,
   "metadata": {},
   "outputs": [],
   "source": [
    "from qiskit.primitives import Estimator\n",
    "from scipy.optimize import minimize\n",
    "from qc4pyscf.ansatz.UCC import UCC\n",
    "from pyscf import gto,scf\n"
   ]
  },
  {
   "cell_type": "code",
   "execution_count": 8,
   "metadata": {},
   "outputs": [
    {
     "name": "stdout",
     "output_type": "stream",
     "text": [
      "converged SCF energy = -1.05318793867456\n"
     ]
    }
   ],
   "source": [
    "###########################################\n",
    "# Original PySCF Process: \n",
    "# 1. Make mol object\n",
    "# 2. Change into RHF or UHF object\n",
    "# 3. Run it to get MO\n",
    "###########################################\n",
    "\n",
    "# 1. Mol object\n",
    "mol = gto.M(atom = \"H 0.000000 0.000000 0; H 0.000000 0.000000 0.50000\", \n",
    "            basis = \"sto6g\",\n",
    "            charge = 0,\n",
    "            spin = 0)\n",
    "\n",
    "# 2 & 3. Make scf object and run\n",
    "mf = scf.ROHF(mol).run() if mol.spin==0 else scf.ROHF(mol).run()\n"
   ]
  },
  {
   "cell_type": "code",
   "execution_count": 9,
   "metadata": {},
   "outputs": [
    {
     "name": "stdout",
     "output_type": "stream",
     "text": [
      "Alpha - alpha excitation denied\n",
      "Beta - beta excitation denied\n",
      "accuracy of Cholesky decomposition  9.205868230312285e-15\n",
      "Ansatz & Hamiltonian Build Done\n"
     ]
    }
   ],
   "source": [
    "\n",
    "###########################################\n",
    "# Additional Process for Quantum Computer:\n",
    "# 1. Put variables in UCC object as below\n",
    "# 2. .Build() to make ansatz circuit & 2nd quantized Hamiltonian\n",
    "# 3. Run minimizer with them above\n",
    "###########################################\n",
    "\n",
    "# 1. Make UCC object. Settings are same as Default\n",
    "qc_mf = UCC(mol = mol,                                  # PySCF mol Object\n",
    "            mf = mf,                                    # PySCF Object such as RHF or UHF\n",
    "            ex_code = 'sd',                             # Excitation Code. s, d, t only\n",
    "            mapping='jordan_wigner',                    # Mapping Method. Currently only jordan_wigner\n",
    "            cd_acc = 1e-6)                              # Accuracy of Cholesky Decomposition while generating Hamiltonian\n",
    "\n",
    "# 2. Build UCC Ingredients\n",
    "qc_mf.build()\n"
   ]
  },
  {
   "cell_type": "code",
   "execution_count": 6,
   "metadata": {},
   "outputs": [
    {
     "name": "stderr",
     "output_type": "stream",
     "text": [
      "/tmp/ipykernel_2415215/2286501041.py:8: DeprecationWarning: The class ``qiskit.primitives.estimator.Estimator`` is deprecated as of qiskit 1.2. It will be removed no earlier than 3 months after the release date. All implementations of the `BaseEstimatorV1` interface have been deprecated in favor of their V2 counterparts. The V2 alternative for the `Estimator` class is `StatevectorEstimator`.\n",
      "  estimator = Estimator()                                 # Qiskit Estimator Simulator Object\n"
     ]
    },
    {
     "name": "stdout",
     "output_type": "stream",
     "text": [
      "Result Energy: -1.0653851697501626 Hartree\n"
     ]
    }
   ],
   "source": [
    "def cost_func_sim(params, ansatz, H, estimator):        # Cost Function: Simplify Estimating Process, Change If uses Real Backend\n",
    "    res = estimator.run([ansatz], [H], params).result()\n",
    "    energy = res.values[0]\n",
    "    return energy\n",
    "\n",
    "# 3. Minimizing with QC Simulator & SciPy Minimizer\n",
    "x0 = [0.0] * qc_mf.ansatz.num_parameters                # Initial Parameter Vector of UCC\n",
    "estimator = Estimator()                                 # Qiskit Estimator Simulator Object\n",
    "res = minimize(cost_func_sim,                           # Minimizer\n",
    "               x0, \n",
    "               args=(qc_mf.ansatz, qc_mf.H, estimator), \n",
    "               method=\"cobyla\", \n",
    "               options={'maxiter': 10000}) \n",
    "energy = getattr(res,'fun')                             # Result Energy\n",
    "\n",
    "print(f\"Result Energy: {energy} Hartree\")               # Ta-Da!\n"
   ]
  },
  {
   "cell_type": "code",
   "execution_count": null,
   "metadata": {},
   "outputs": [],
   "source": [
    "qc_mf.ansatz.draw('mpl')"
   ]
  }
 ],
 "metadata": {
  "kernelspec": {
   "display_name": "base",
   "language": "python",
   "name": "python3"
  },
  "language_info": {
   "codemirror_mode": {
    "name": "ipython",
    "version": 3
   },
   "file_extension": ".py",
   "mimetype": "text/x-python",
   "name": "python",
   "nbconvert_exporter": "python",
   "pygments_lexer": "ipython3",
   "version": "3.12.8"
  }
 },
 "nbformat": 4,
 "nbformat_minor": 2
}
