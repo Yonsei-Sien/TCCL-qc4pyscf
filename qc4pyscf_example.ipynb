{
 "cells": [
  {
   "cell_type": "markdown",
   "metadata": {},
   "source": [
    "### 1. Preparation with Classic Method"
   ]
  },
  {
   "cell_type": "code",
   "execution_count": 1,
   "metadata": {},
   "outputs": [
    {
     "name": "stdout",
     "output_type": "stream",
     "text": [
      " HF: -1.117 Hartree\n",
      "FCI: -1.137 Hartree\n",
      "\n",
      "Correlation Energy: -0.020 Hartree\n"
     ]
    }
   ],
   "source": [
    "from qiskit.primitives import StatevectorEstimator as Estimator\n",
    "from qc4pyscf.ansatz.ADAPT_VQE import ADAPT_VQE\n",
    "from qc4pyscf.ansatz.UCC import UCC\n",
    "from pyscf import gto,scf,fci\n",
    "\n",
    "###########################################\n",
    "# Original PySCF Process: \n",
    "# 1. Make mol object\n",
    "# 2. Make RHF or UHF object\n",
    "# 3. Run it\n",
    "###########################################\n",
    "\n",
    "# 1. Make mol object\n",
    "mol     = gto.M(atom = \"H 0.000000 0.000000 0; H 0.000000 0.000000 0.720000\", \n",
    "                basis = \"sto3g\",\n",
    "                charge = 0,\n",
    "                spin = 0,\n",
    "                verbose = 0)\n",
    "\n",
    "# 2. Make HF object and run\n",
    "mf      = scf.RHF(mol)\n",
    "E_hf    = mf.kernel()\n",
    "\n",
    "# Code for reference\n",
    "mf_fci  = fci.FCI(mf)\n",
    "E_fci   = mf_fci.kernel()[0]\n",
    "\n",
    "print(f\" HF: {E_hf:.3f} Hartree\\nFCI: {E_fci:.3f} Hartree\\n\\nCorrelation Energy: {E_fci - E_hf:.3f} Hartree\")"
   ]
  },
  {
   "cell_type": "markdown",
   "metadata": {},
   "source": [
    "### 2-1. Calculate with Quantum Algorithm - UCC"
   ]
  },
  {
   "cell_type": "code",
   "execution_count": 2,
   "metadata": {},
   "outputs": [
    {
     "name": "stdout",
     "output_type": "stream",
     "text": [
      "accuracy of Cholesky decomposition  7.771561172376096e-16\n",
      "Alpha - Alpha Excitation Denied\n",
      "Beta - Beta Excitation Denied\n",
      "Build Done\n",
      "==========================================================\n",
      "     Minimize Algorithm     : COBYLA\n",
      "  Max Minimizing Iteration  : 200000\n",
      "      Excitation Code       : SD\n",
      "     Mapping Algorithm      : Jordan-Wigner\n",
      "        C.D. Accuracy       : 1.0e-06\n",
      "     Initial Conditions     : False\n",
      "==========================================================\n",
      "Calculated Energy: -1.1371117026192732 Hartree | Minimize Success: True | Computation Time: 0.264s\n"
     ]
    },
    {
     "data": {
      "text/plain": [
       "np.float64(-1.1371117026192732)"
      ]
     },
     "execution_count": 2,
     "metadata": {},
     "output_type": "execute_result"
    }
   ],
   "source": [
    "###########################################\n",
    "# Additional Process for Quantum Computer:\n",
    "# 1. Put variables in UCC object as below\n",
    "# 2. Build quantum ingredients\n",
    "# 3. Run it\n",
    "###########################################\n",
    "\n",
    "# 0. Make a proper cost function.\n",
    "def cost_func(params, ansatz, H, estimator):\n",
    "    res = estimator.run([(ansatz, H, params)]).result()\n",
    "    energy = res[0].data.evs\n",
    "    return energy\n",
    "\n",
    "# 1. Make UCC object. Settings are same as Default\n",
    "qc_mf = UCC(mol           = mol,                # gto.Mole Object\n",
    "            mf            = mf,                 # PySCF's scf or dft Object\n",
    "            ex_code       = 'sd',               # Excitation Code: (sd)\n",
    "            mapping       = 'jordan_wigner',    # Mapping: (jordan_wignar)\n",
    "            cd_acc        = 1e-6,               # Cholesty Decomposition Accuracy\n",
    "            max_iteration = 200000,             # Minimizer Maximum Iteration\n",
    "            amplitudes    = [],                 # Amplitudes of Excitation Evolvers\n",
    "            spin_symm     = True)               # Excitation Spin Symmetry (It changes into False if the system is open shell)\n",
    "            \n",
    "# 2. Build QC Ingredients\n",
    "qc_mf.build()\n",
    "\n",
    "# 3. Run UCC Algorithm\n",
    "qc_mf.run(  cost_func,                      # Cost function to use\n",
    "            Estimator(),                    # Quantum estimator\n",
    "            minimize_algorithm='COBYLA',    # Mimization Algorithm for scipy minimize\n",
    "            on_ansatz_ftn=None)             # Function for ansatz between building and operating e.g. pm.run()\n"
   ]
  },
  {
   "cell_type": "markdown",
   "metadata": {},
   "source": [
    "### 2-2. Calculate with Quantum Algorithm - ADAPT-VQE"
   ]
  },
  {
   "cell_type": "code",
   "execution_count": 3,
   "metadata": {},
   "outputs": [
    {
     "name": "stdout",
     "output_type": "stream",
     "text": [
      "accuracy of Cholesky decomposition  7.771561172376096e-16\n",
      "Build Done. #Operator in Operator Pool: 36\n",
      "==========================================================\n",
      "     Minimize Algorithm     : BFGS\n",
      "  Max Minimizing Iteration  : 200000\n",
      "     Max ADAPT-VQE Cycle    : 50\n",
      "      Excitation Code       : SD\n",
      "     Mapping Algorithm      : Jordan-Wigner\n",
      "        C.D. Accuracy       : 1.00e-06\n",
      "     Converge Tolerance     : E(1.00e-06) | Grad(1.00e-02)\n",
      "      Convergence Type      : 0 (0: Grad | 1: Energy | 2: Grad and Energy)\n",
      "         Checkfile          : None\n",
      "==========================================================\n",
      "#Evolver:     0 | Grad_Norm: 1.01879 | Used Op.:  a1/b1//b0/a0 (+) b1/a1//a0/b0   | Minimize: Success | Energy: -1.137111715 AU | dE: -2.137111715 AU | Computation Time for Cycle: 0.092s\n",
      "#Evolver:     1 | Grad_Norm: 0.00000 | Used Op.:  a1/b1//b0/a0 (+) b1/a1//a0/b0   | Minimize: Success | Energy: -1.137111715 AU | dE: 0.000000000 AU | Computation Time for Cycle: 0.197s\n",
      "System Converged. E = -1.1371117151154442 Hartree | Total Computation Time: 0.289s\n"
     ]
    },
    {
     "data": {
      "text/plain": [
       "-1.1371117151154442"
      ]
     },
     "execution_count": 3,
     "metadata": {},
     "output_type": "execute_result"
    }
   ],
   "source": [
    "###########################################\n",
    "# Additional Process for Quantum Computer:\n",
    "# 1. Put variables in ADAPT-VQE object as below\n",
    "# 2. Build quantum ingredients\n",
    "# 3. Run it\n",
    "###########################################\n",
    "\n",
    "# 0. Make a proper cost function.\n",
    "def cost_func(params, ansatz, H, estimator):\n",
    "    res = estimator.run([(ansatz, H, params)]).result()\n",
    "    energy = res[0].data.evs\n",
    "    return energy\n",
    "\n",
    "# 1. Make ADAPT-VQE object. Settings are same as Default\n",
    "qc_mf = ADAPT_VQE(  mol           = mol,                # gto.Mole Object\n",
    "                    mf            = mf,                 # PySCF's scf or dft Object\n",
    "                    ex_code       = 'sd',               # Excitation Code: (sd)\n",
    "                    mapping       = 'jordan_wigner',    # Mapping: (jordan_wignar)\n",
    "                    cd_acc        = 1e-6,               # Cholesky Decomposition Accuracy\n",
    "                    energy_conv   = 1e-6,               # Energy Converge Tolerance\n",
    "                    grad_conv     = 1e-2,               # 2-Norm of Gradient Vector Converge Tolerance\n",
    "                    conv_type     = 0,                  # 0: Grad | 1: Energy | 2: Grad and Energy\n",
    "                    max_cycle     = 50,                 # ADAPT-VQE Maximum Cycle\n",
    "                    max_iteration = 200000,             # Minimizer Maximum Iteration\n",
    "                    initial       = None,               # Initial Ansatz JSON Directory\n",
    "                    chkfile       = None,               # Chkfile Directory\n",
    "                    spin_symm     = True)               # Spin Symmetry\n",
    "            \n",
    "# 2. Build QC Ingredients\n",
    "qc_mf.build()\n",
    "\n",
    "# 3. Run UCC Algorithm\n",
    "qc_mf.run(  cost_func,                      # Cost function to use\n",
    "            Estimator(),                    # Quantum estimator\n",
    "            minimize_algorithm='BFGS',      # Mimization Algorithm for scipy minimize\n",
    "            on_ansatz_ftn=None)             # Function for ansatz between building and operating e.g. pm.run()"
   ]
  }
 ],
 "metadata": {
  "kernelspec": {
   "display_name": "base",
   "language": "python",
   "name": "python3"
  },
  "language_info": {
   "codemirror_mode": {
    "name": "ipython",
    "version": 3
   },
   "file_extension": ".py",
   "mimetype": "text/x-python",
   "name": "python",
   "nbconvert_exporter": "python",
   "pygments_lexer": "ipython3",
   "version": "3.12.8"
  }
 },
 "nbformat": 4,
 "nbformat_minor": 2
}
